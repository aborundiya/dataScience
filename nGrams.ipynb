{
  "nbformat": 4,
  "nbformat_minor": 0,
  "metadata": {
    "colab": {
      "name": "nGrams.ipynb",
      "provenance": [],
      "toc_visible": true,
      "authorship_tag": "ABX9TyOBs16NpHwn+8e3bF5u31Gx",
      "include_colab_link": true
    },
    "kernelspec": {
      "name": "python3",
      "display_name": "Python 3"
    }
  },
  "cells": [
    {
      "cell_type": "markdown",
      "metadata": {
        "id": "view-in-github",
        "colab_type": "text"
      },
      "source": [
        "<a href=\"https://colab.research.google.com/github/aborundiya/dataScience/blob/master/nGrams.ipynb\" target=\"_parent\"><img src=\"https://colab.research.google.com/assets/colab-badge.svg\" alt=\"Open In Colab\"/></a>"
      ]
    },
    {
      "cell_type": "code",
      "metadata": {
        "id": "lUCtjUOaENg3",
        "colab_type": "code",
        "colab": {}
      },
      "source": [
        "f = open(\"poem.txt\",\"r\")"
      ],
      "execution_count": 0,
      "outputs": []
    },
    {
      "cell_type": "code",
      "metadata": {
        "id": "-ifyOGvhEedy",
        "colab_type": "code",
        "colab": {
          "base_uri": "https://localhost:8080/",
          "height": 34
        },
        "outputId": "b4f492c6-5690-47f4-e297-0d1d6f40d727"
      },
      "source": [
        "\n",
        "print(f)"
      ],
      "execution_count": 15,
      "outputs": [
        {
          "output_type": "stream",
          "text": [
            "<_io.TextIOWrapper name='poem.txt' mode='r' encoding='UTF-8'>\n"
          ],
          "name": "stdout"
        }
      ]
    },
    {
      "cell_type": "code",
      "metadata": {
        "id": "EWT-KiAkEgeg",
        "colab_type": "code",
        "colab": {}
      },
      "source": [
        "output = f.read()"
      ],
      "execution_count": 0,
      "outputs": []
    },
    {
      "cell_type": "code",
      "metadata": {
        "id": "x09-BFPdEkEQ",
        "colab_type": "code",
        "colab": {
          "base_uri": "https://localhost:8080/",
          "height": 442
        },
        "outputId": "17508dcd-40ad-44b8-d921-fd1e5ea6befb"
      },
      "source": [
        "print(output)"
      ],
      "execution_count": 17,
      "outputs": [
        {
          "output_type": "stream",
          "text": [
            "Unending Love by Rabindranath Tagore\n",
            "\n",
            "I seem to have loved you in numberless forms, numberless times\n",
            "In life after life, in age after age, forever.\n",
            "My spellbound heart has made and remade the necklace of songs,\n",
            "That you take as a gift, wear round your neck in your many forms,\n",
            "In life after life, in age after age, forever.\n",
            "\n",
            "Whenever I hear old chronicles of love, its age-old pain,\n",
            "Its ancient tale of being apart or together.\n",
            "As I stare on and on into the past, in the end you emerge,\n",
            "Clad in the light of a pole-star piercing the darkness of time:\n",
            "You become an image of what is remembered forever.\n",
            "\n",
            "You and I have floated here on the stream that brings from the fount.\n",
            "At the heart of time, love of one for another.\n",
            "We have played along side millions of lovers, shared in the same\n",
            "Shy sweetness of meeting, the same distressful tears of farewell-\n",
            "Old love but in shapes that renew and renew forever.\n",
            "\n",
            "Today it is heaped at your feet, it has found its end in you\n",
            "The love of all man’s days both past and forever:\n",
            "Universal joy, universal sorrow, universal life.\n",
            "The memories of all loves merging with this one love of ours –\n",
            "And the songs of every poet past and forever.\n"
          ],
          "name": "stdout"
        }
      ]
    },
    {
      "cell_type": "code",
      "metadata": {
        "id": "q0dwVZoUFXRh",
        "colab_type": "code",
        "colab": {}
      },
      "source": [
        "f.close()"
      ],
      "execution_count": 0,
      "outputs": []
    },
    {
      "cell_type": "code",
      "metadata": {
        "id": "z0RHh0CmG81B",
        "colab_type": "code",
        "colab": {
          "base_uri": "https://localhost:8080/",
          "height": 54
        },
        "outputId": "61f3ecd2-342c-4477-f7f4-4567010ceb1e"
      },
      "source": [
        "with open(\"poem.txt\",\"r\") as f :\n",
        "  out_lines = f.readlines()\n",
        "  print(out_lines)"
      ],
      "execution_count": 32,
      "outputs": [
        {
          "output_type": "stream",
          "text": [
            "['Unending Love by Rabindranath Tagore\\n', '\\n', 'I seem to have loved you in numberless forms, numberless times\\n', 'In life after life, in age after age, forever.\\n', 'My spellbound heart has made and remade the necklace of songs,\\n', 'That you take as a gift, wear round your neck in your many forms,\\n', 'In life after life, in age after age, forever.\\n', '\\n', 'Whenever I hear old chronicles of love, its age-old pain,\\n', 'Its ancient tale of being apart or together.\\n', 'As I stare on and on into the past, in the end you emerge,\\n', 'Clad in the light of a pole-star piercing the darkness of time:\\n', 'You become an image of what is remembered forever.\\n', '\\n', 'You and I have floated here on the stream that brings from the fount.\\n', 'At the heart of time, love of one for another.\\n', 'We have played along side millions of lovers, shared in the same\\n', 'Shy sweetness of meeting, the same distressful tears of farewell-\\n', 'Old love but in shapes that renew and renew forever.\\n', '\\n', 'Today it is heaped at your feet, it has found its end in you\\n', 'The love of all man’s days both past and forever:\\n', 'Universal joy, universal sorrow, universal life.\\n', 'The memories of all loves merging with this one love of ours –\\n', 'And the songs of every poet past and forever.']\n"
          ],
          "name": "stdout"
        }
      ]
    },
    {
      "cell_type": "code",
      "metadata": {
        "id": "yt8-FmIMHGgA",
        "colab_type": "code",
        "colab": {}
      },
      "source": [
        "i = 0 \n",
        "for line in out_lines:\n",
        "  print(i, '\\t',line.strip())\n",
        "  i +=1"
      ],
      "execution_count": 0,
      "outputs": []
    },
    {
      "cell_type": "code",
      "metadata": {
        "id": "TQmQRN6uHamC",
        "colab_type": "code",
        "colab": {}
      },
      "source": [
        "fline = [2,20,24]\n",
        "with open(\"fav_lines.txt\",\"w\") as fw:\n",
        "  for line in fline:\n",
        "    fw.writelines(out_lines[line])\n",
        "  "
      ],
      "execution_count": 0,
      "outputs": []
    },
    {
      "cell_type": "markdown",
      "metadata": {
        "id": "Hf5A6_QAWGLt",
        "colab_type": "text"
      },
      "source": [
        "prepare a dictionary key = unique words and item = its frequency "
      ]
    },
    {
      "cell_type": "code",
      "metadata": {
        "id": "K9SCCI-EIWlQ",
        "colab_type": "code",
        "colab": {}
      },
      "source": [
        "for i in range(len(out_lines)):\n",
        "  out_lines[i] = out_lines[i].lower()   #this is for ease of counting as it is case sensitive "
      ],
      "execution_count": 0,
      "outputs": []
    },
    {
      "cell_type": "code",
      "metadata": {
        "id": "NbtyCpAEJFap",
        "colab_type": "code",
        "colab": {}
      },
      "source": [
        "chars_replace = ['\\n',',','-','\"','(',')','.','_'] #this is to replace the punctuation marks"
      ],
      "execution_count": 0,
      "outputs": []
    },
    {
      "cell_type": "code",
      "metadata": {
        "id": "yDSDXtrvJd2S",
        "colab_type": "code",
        "colab": {}
      },
      "source": [
        "for i in range(len(out_lines)):\n",
        "  for char in chars_replace:\n",
        "    out_lines[i] = out_lines[i].replace(char,' ')\n"
      ],
      "execution_count": 0,
      "outputs": []
    },
    {
      "cell_type": "code",
      "metadata": {
        "id": "D0YTWnw7J12t",
        "colab_type": "code",
        "colab": {}
      },
      "source": [
        "text = \" \".join(out_lines)   #to make the whole list in one single line to process easy "
      ],
      "execution_count": 0,
      "outputs": []
    },
    {
      "cell_type": "code",
      "metadata": {
        "id": "v4kTi6HeKFWS",
        "colab_type": "code",
        "colab": {}
      },
      "source": [
        "words = text.split()  #to split the whole file in list of words "
      ],
      "execution_count": 0,
      "outputs": []
    },
    {
      "cell_type": "code",
      "metadata": {
        "id": "M7n6FDp4KPoX",
        "colab_type": "code",
        "colab": {}
      },
      "source": [
        "set_words = set(words)  # since sets by defautls is of unique items we use this for keys"
      ],
      "execution_count": 0,
      "outputs": []
    },
    {
      "cell_type": "code",
      "metadata": {
        "id": "sJIfXTYuQmdF",
        "colab_type": "code",
        "colab": {}
      },
      "source": [
        "word_freq = {}  # define the dictionary "
      ],
      "execution_count": 0,
      "outputs": []
    },
    {
      "cell_type": "code",
      "metadata": {
        "id": "lht6_bM3SAdl",
        "colab_type": "code",
        "colab": {}
      },
      "source": [
        "for word in set_words:\n",
        "  word_freq[word] = words.count(word)   #iterate through each unique key and count its instances "
      ],
      "execution_count": 0,
      "outputs": []
    },
    {
      "cell_type": "code",
      "metadata": {
        "id": "89eplDyLSNzR",
        "colab_type": "code",
        "colab": {}
      },
      "source": [
        "sorted_list = (sorted(word_freq.items(), key = lambda item : item[1], reverse = True))\n",
        "#sorting the list with items.... "
      ],
      "execution_count": 0,
      "outputs": []
    },
    {
      "cell_type": "code",
      "metadata": {
        "id": "JJyCn1-ESUbk",
        "colab_type": "code",
        "colab": {
          "base_uri": "https://localhost:8080/",
          "height": 54
        },
        "outputId": "82d1a18c-19c6-4ee9-8e45-a8376d43b35a"
      },
      "source": [
        "print(sorted_list[:10])"
      ],
      "execution_count": 106,
      "outputs": [
        {
          "output_type": "stream",
          "text": [
            "[('of', 15), ('the', 13), ('in', 11), ('and', 7), ('love', 6), ('you', 6), ('forever', 5), ('age', 5), ('life', 5), ('i', 4)]\n"
          ],
          "name": "stdout"
        }
      ]
    },
    {
      "cell_type": "code",
      "metadata": {
        "id": "UBB_02QaS9ol",
        "colab_type": "code",
        "colab": {}
      },
      "source": [
        "with open(\"most_common_words.txt\",\"w\") as f : \n",
        "  for item in sorted_list[:10]:\n",
        "    f.write(item[0] + \"\\n\")"
      ],
      "execution_count": 0,
      "outputs": []
    },
    {
      "cell_type": "markdown",
      "metadata": {
        "id": "A3Af4u5yZypu",
        "colab_type": "text"
      },
      "source": [
        "N grams code "
      ]
    },
    {
      "cell_type": "code",
      "metadata": {
        "id": "4Dd7RqdOaB8W",
        "colab_type": "code",
        "colab": {}
      },
      "source": [
        "two_grams_zip = zip(words,words[1:])"
      ],
      "execution_count": 0,
      "outputs": []
    },
    {
      "cell_type": "code",
      "metadata": {
        "id": "38NZltTEaPjn",
        "colab_type": "code",
        "colab": {}
      },
      "source": [
        "two_grams = [item for item in two_grams_zip]"
      ],
      "execution_count": 0,
      "outputs": []
    },
    {
      "cell_type": "code",
      "metadata": {
        "id": "VGswz0-GaTcx",
        "colab_type": "code",
        "colab": {
          "base_uri": "https://localhost:8080/",
          "height": 54
        },
        "outputId": "d82aae8d-7845-49d5-90ec-85f29ef0841b"
      },
      "source": [
        "print(two_grams)"
      ],
      "execution_count": 120,
      "outputs": [
        {
          "output_type": "stream",
          "text": [
            "[('unending', 'love'), ('love', 'by'), ('by', 'rabindranath'), ('rabindranath', 'tagore'), ('tagore', 'i'), ('i', 'seem'), ('seem', 'to'), ('to', 'have'), ('have', 'loved'), ('loved', 'you'), ('you', 'in'), ('in', 'numberless'), ('numberless', 'forms'), ('forms', 'numberless'), ('numberless', 'times'), ('times', 'in'), ('in', 'life'), ('life', 'after'), ('after', 'life'), ('life', 'in'), ('in', 'age'), ('age', 'after'), ('after', 'age'), ('age', 'forever'), ('forever', 'my'), ('my', 'spellbound'), ('spellbound', 'heart'), ('heart', 'has'), ('has', 'made'), ('made', 'and'), ('and', 'remade'), ('remade', 'the'), ('the', 'necklace'), ('necklace', 'of'), ('of', 'songs'), ('songs', 'that'), ('that', 'you'), ('you', 'take'), ('take', 'as'), ('as', 'a'), ('a', 'gift'), ('gift', 'wear'), ('wear', 'round'), ('round', 'your'), ('your', 'neck'), ('neck', 'in'), ('in', 'your'), ('your', 'many'), ('many', 'forms'), ('forms', 'in'), ('in', 'life'), ('life', 'after'), ('after', 'life'), ('life', 'in'), ('in', 'age'), ('age', 'after'), ('after', 'age'), ('age', 'forever'), ('forever', 'whenever'), ('whenever', 'i'), ('i', 'hear'), ('hear', 'old'), ('old', 'chronicles'), ('chronicles', 'of'), ('of', 'love'), ('love', 'its'), ('its', 'age'), ('age', 'old'), ('old', 'pain'), ('pain', 'its'), ('its', 'ancient'), ('ancient', 'tale'), ('tale', 'of'), ('of', 'being'), ('being', 'apart'), ('apart', 'or'), ('or', 'together'), ('together', 'as'), ('as', 'i'), ('i', 'stare'), ('stare', 'on'), ('on', 'and'), ('and', 'on'), ('on', 'into'), ('into', 'the'), ('the', 'past'), ('past', 'in'), ('in', 'the'), ('the', 'end'), ('end', 'you'), ('you', 'emerge'), ('emerge', 'clad'), ('clad', 'in'), ('in', 'the'), ('the', 'light'), ('light', 'of'), ('of', 'a'), ('a', 'pole'), ('pole', 'star'), ('star', 'piercing'), ('piercing', 'the'), ('the', 'darkness'), ('darkness', 'of'), ('of', 'time:'), ('time:', 'you'), ('you', 'become'), ('become', 'an'), ('an', 'image'), ('image', 'of'), ('of', 'what'), ('what', 'is'), ('is', 'remembered'), ('remembered', 'forever'), ('forever', 'you'), ('you', 'and'), ('and', 'i'), ('i', 'have'), ('have', 'floated'), ('floated', 'here'), ('here', 'on'), ('on', 'the'), ('the', 'stream'), ('stream', 'that'), ('that', 'brings'), ('brings', 'from'), ('from', 'the'), ('the', 'fount'), ('fount', 'at'), ('at', 'the'), ('the', 'heart'), ('heart', 'of'), ('of', 'time'), ('time', 'love'), ('love', 'of'), ('of', 'one'), ('one', 'for'), ('for', 'another'), ('another', 'we'), ('we', 'have'), ('have', 'played'), ('played', 'along'), ('along', 'side'), ('side', 'millions'), ('millions', 'of'), ('of', 'lovers'), ('lovers', 'shared'), ('shared', 'in'), ('in', 'the'), ('the', 'same'), ('same', 'shy'), ('shy', 'sweetness'), ('sweetness', 'of'), ('of', 'meeting'), ('meeting', 'the'), ('the', 'same'), ('same', 'distressful'), ('distressful', 'tears'), ('tears', 'of'), ('of', 'farewell'), ('farewell', 'old'), ('old', 'love'), ('love', 'but'), ('but', 'in'), ('in', 'shapes'), ('shapes', 'that'), ('that', 'renew'), ('renew', 'and'), ('and', 'renew'), ('renew', 'forever'), ('forever', 'today'), ('today', 'it'), ('it', 'is'), ('is', 'heaped'), ('heaped', 'at'), ('at', 'your'), ('your', 'feet'), ('feet', 'it'), ('it', 'has'), ('has', 'found'), ('found', 'its'), ('its', 'end'), ('end', 'in'), ('in', 'you'), ('you', 'the'), ('the', 'love'), ('love', 'of'), ('of', 'all'), ('all', 'man’s'), ('man’s', 'days'), ('days', 'both'), ('both', 'past'), ('past', 'and'), ('and', 'forever:'), ('forever:', 'universal'), ('universal', 'joy'), ('joy', 'universal'), ('universal', 'sorrow'), ('sorrow', 'universal'), ('universal', 'life'), ('life', 'the'), ('the', 'memories'), ('memories', 'of'), ('of', 'all'), ('all', 'loves'), ('loves', 'merging'), ('merging', 'with'), ('with', 'this'), ('this', 'one'), ('one', 'love'), ('love', 'of'), ('of', 'ours'), ('ours', '–'), ('–', 'and'), ('and', 'the'), ('the', 'songs'), ('songs', 'of'), ('of', 'every'), ('every', 'poet'), ('poet', 'past'), ('past', 'and'), ('and', 'forever')]\n"
          ],
          "name": "stdout"
        }
      ]
    },
    {
      "cell_type": "code",
      "metadata": {
        "id": "TGN1YX9Ia5oE",
        "colab_type": "code",
        "colab": {}
      },
      "source": [
        "two_grams_dict = {}"
      ],
      "execution_count": 0,
      "outputs": []
    },
    {
      "cell_type": "code",
      "metadata": {
        "id": "Mvw7gGFFbxDm",
        "colab_type": "code",
        "colab": {}
      },
      "source": [
        "for words in set(two_grams): \n",
        "  two_grams_dict[words] = two_grams.count(words)"
      ],
      "execution_count": 0,
      "outputs": []
    },
    {
      "cell_type": "code",
      "metadata": {
        "id": "EHuP1S27cChO",
        "colab_type": "code",
        "colab": {
          "base_uri": "https://localhost:8080/",
          "height": 54
        },
        "outputId": "3e6f160d-a690-4d88-e14f-9cd70c1fccf4"
      },
      "source": [
        "print(two_grams_dict)"
      ],
      "execution_count": 123,
      "outputs": [
        {
          "output_type": "stream",
          "text": [
            "{('from', 'the'): 1, ('feet', 'it'): 1, ('sweetness', 'of'): 1, ('made', 'and'): 1, ('universal', 'joy'): 1, ('neck', 'in'): 1, ('has', 'found'): 1, ('but', 'in'): 1, ('farewell', 'old'): 1, ('old', 'pain'): 1, ('of', 'time:'): 1, ('your', 'many'): 1, ('numberless', 'times'): 1, ('or', 'together'): 1, ('heaped', 'at'): 1, ('of', 'farewell'): 1, ('light', 'of'): 1, ('together', 'as'): 1, ('you', 'emerge'): 1, ('of', 'every'): 1, ('become', 'an'): 1, ('old', 'chronicles'): 1, ('its', 'ancient'): 1, ('past', 'in'): 1, ('renew', 'forever'): 1, ('renew', 'and'): 1, ('you', 'become'): 1, ('of', 'all'): 2, ('merging', 'with'): 1, ('in', 'shapes'): 1, ('spellbound', 'heart'): 1, ('you', 'in'): 1, ('in', 'your'): 1, ('after', 'age'): 2, ('heart', 'has'): 1, ('the', 'fount'): 1, ('shapes', 'that'): 1, ('one', 'for'): 1, ('the', 'songs'): 1, ('and', 'on'): 1, ('same', 'shy'): 1, ('hear', 'old'): 1, ('rabindranath', 'tagore'): 1, ('of', 'time'): 1, ('and', 'remade'): 1, ('chronicles', 'of'): 1, ('loved', 'you'): 1, ('loves', 'merging'): 1, ('the', 'love'): 1, ('time', 'love'): 1, ('tale', 'of'): 1, ('sorrow', 'universal'): 1, ('of', 'what'): 1, ('floated', 'here'): 1, ('clad', 'in'): 1, ('songs', 'of'): 1, ('i', 'have'): 1, ('end', 'you'): 1, ('love', 'but'): 1, ('pole', 'star'): 1, ('of', 'ours'): 1, ('age', 'forever'): 2, ('and', 'forever:'): 1, ('of', 'being'): 1, ('times', 'in'): 1, ('forever', 'you'): 1, ('and', 'forever'): 1, ('have', 'loved'): 1, ('every', 'poet'): 1, ('what', 'is'): 1, ('is', 'remembered'): 1, ('at', 'your'): 1, ('image', 'of'): 1, ('forever', 'today'): 1, ('remade', 'the'): 1, ('stream', 'that'): 1, ('my', 'spellbound'): 1, ('tagore', 'i'): 1, ('in', 'age'): 2, ('of', 'meeting'): 1, ('of', 'a'): 1, ('old', 'love'): 1, ('i', 'stare'): 1, ('for', 'another'): 1, ('forever', 'whenever'): 1, ('all', 'man’s'): 1, ('joy', 'universal'): 1, ('with', 'this'): 1, ('on', 'and'): 1, ('forms', 'numberless'): 1, ('memories', 'of'): 1, ('and', 'renew'): 1, ('in', 'the'): 3, ('necklace', 'of'): 1, ('after', 'life'): 2, ('unending', 'love'): 1, ('forms', 'in'): 1, ('today', 'it'): 1, ('the', 'memories'): 1, ('the', 'same'): 2, ('tears', 'of'): 1, ('is', 'heaped'): 1, ('stare', 'on'): 1, ('remembered', 'forever'): 1, ('life', 'after'): 2, ('fount', 'at'): 1, ('seem', 'to'): 1, ('all', 'loves'): 1, ('that', 'you'): 1, ('love', 'of'): 3, ('as', 'i'): 1, ('of', 'one'): 1, ('you', 'the'): 1, ('an', 'image'): 1, ('of', 'love'): 1, ('past', 'and'): 2, ('take', 'as'): 1, ('at', 'the'): 1, ('have', 'floated'): 1, ('shared', 'in'): 1, ('here', 'on'): 1, ('the', 'light'): 1, ('a', 'pole'): 1, ('a', 'gift'): 1, ('on', 'into'): 1, ('on', 'the'): 1, ('another', 'we'): 1, ('star', 'piercing'): 1, ('pain', 'its'): 1, ('age', 'old'): 1, ('into', 'the'): 1, ('it', 'has'): 1, ('have', 'played'): 1, ('its', 'age'): 1, ('time:', 'you'): 1, ('the', 'stream'): 1, ('age', 'after'): 2, ('millions', 'of'): 1, ('life', 'in'): 2, ('in', 'life'): 2, ('ours', '–'): 1, ('numberless', 'forms'): 1, ('of', 'lovers'): 1, ('forever', 'my'): 1, ('by', 'rabindranath'): 1, ('one', 'love'): 1, ('in', 'you'): 1, ('wear', 'round'): 1, ('the', 'heart'): 1, ('man’s', 'days'): 1, ('you', 'and'): 1, ('the', 'past'): 1, ('ancient', 'tale'): 1, ('darkness', 'of'): 1, ('and', 'the'): 1, ('i', 'seem'): 1, ('both', 'past'): 1, ('round', 'your'): 1, ('has', 'made'): 1, ('piercing', 'the'): 1, ('many', 'forms'): 1, ('its', 'end'): 1, ('as', 'a'): 1, ('end', 'in'): 1, ('side', 'millions'): 1, ('found', 'its'): 1, ('to', 'have'): 1, ('universal', 'life'): 1, ('same', 'distressful'): 1, ('brings', 'from'): 1, ('the', 'darkness'): 1, ('universal', 'sorrow'): 1, ('gift', 'wear'): 1, ('life', 'the'): 1, ('shy', 'sweetness'): 1, ('the', 'necklace'): 1, ('the', 'end'): 1, ('this', 'one'): 1, ('–', 'and'): 1, ('forever:', 'universal'): 1, ('along', 'side'): 1, ('that', 'renew'): 1, ('distressful', 'tears'): 1, ('lovers', 'shared'): 1, ('songs', 'that'): 1, ('love', 'its'): 1, ('that', 'brings'): 1, ('in', 'numberless'): 1, ('we', 'have'): 1, ('i', 'hear'): 1, ('it', 'is'): 1, ('you', 'take'): 1, ('poet', 'past'): 1, ('meeting', 'the'): 1, ('played', 'along'): 1, ('your', 'feet'): 1, ('days', 'both'): 1, ('love', 'by'): 1, ('emerge', 'clad'): 1, ('whenever', 'i'): 1, ('apart', 'or'): 1, ('heart', 'of'): 1, ('of', 'songs'): 1, ('and', 'i'): 1, ('your', 'neck'): 1, ('being', 'apart'): 1}\n"
          ],
          "name": "stdout"
        }
      ]
    },
    {
      "cell_type": "code",
      "metadata": {
        "id": "9yCVTGlmcFjD",
        "colab_type": "code",
        "colab": {}
      },
      "source": [
        "sorted_two_grams = sorted(two_grams_dict.items(), key = lambda item :item[1], reverse = True)"
      ],
      "execution_count": 0,
      "outputs": []
    },
    {
      "cell_type": "code",
      "metadata": {
        "id": "YaiRBY7RcYtN",
        "colab_type": "code",
        "colab": {
          "base_uri": "https://localhost:8080/",
          "height": 102
        },
        "outputId": "adc3fc77-8a3a-455f-cc4f-4a67c168ca42"
      },
      "source": [
        "(sorted_two_grams[:5])"
      ],
      "execution_count": 133,
      "outputs": [
        {
          "output_type": "execute_result",
          "data": {
            "text/plain": [
              "[(('in', 'the'), 3),\n",
              " (('love', 'of'), 3),\n",
              " (('of', 'all'), 2),\n",
              " (('after', 'age'), 2),\n",
              " (('age', 'forever'), 2)]"
            ]
          },
          "metadata": {
            "tags": []
          },
          "execution_count": 133
        }
      ]
    },
    {
      "cell_type": "code",
      "metadata": {
        "id": "HtrBTeI3ceAD",
        "colab_type": "code",
        "colab": {}
      },
      "source": [
        "with open(\"most_common_grams.txt\",\"w\") as f : \n",
        "  for item in sorted_two_grams[:5]:\n",
        "    f.write(item[0][0] + \" \" + item[0][1] + \"\\n\")"
      ],
      "execution_count": 0,
      "outputs": []
    },
    {
      "cell_type": "code",
      "metadata": {
        "id": "i4f8gVScdqPM",
        "colab_type": "code",
        "colab": {}
      },
      "source": [
        ""
      ],
      "execution_count": 0,
      "outputs": []
    }
  ]
}